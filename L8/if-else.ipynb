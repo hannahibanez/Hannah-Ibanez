{
 "cells": [
  {
   "cell_type": "markdown",
   "id": "97f4b277",
   "metadata": {},
   "source": [
    " # if-else-statement <hr style = \"border: 2.5px solid #C9A9A6\"></hr>"
   ]
  },
  {
   "cell_type": "markdown",
   "id": "baee3afa",
   "metadata": {},
   "source": [
    "Data Analyst: Hannah Lyrane P. Ibanez <br>\n",
    "Department: Electrical Engineering"
   ]
  },
  {
   "cell_type": "markdown",
   "id": "8ea9da99",
   "metadata": {},
   "source": [
    "# if statement\n"
   ]
  },
  {
   "cell_type": "code",
   "execution_count": 3,
   "id": "d6e11a0e",
   "metadata": {},
   "outputs": [
    {
     "name": "stdout",
     "output_type": "stream",
     "text": [
      "pasar ko!\n"
     ]
    }
   ],
   "source": [
    "# passing score is 5.0\n",
    "grade = 5.1\n",
    "if grade >= 5.0:\n",
    "    print (\"pasar ko!\")"
   ]
  },
  {
   "cell_type": "code",
   "execution_count": 5,
   "id": "c38e89e4",
   "metadata": {},
   "outputs": [
    {
     "name": "stdout",
     "output_type": "stream",
     "text": [
      "FAILED\n"
     ]
    }
   ],
   "source": [
    "# two if statements are evaluated\n",
    "grade = 4.5\n",
    "\n",
    "# evaluate grade \n",
    "if grade >= 5.0:\n",
    "    print (\"pasar ko!\")\n",
    "\n",
    "if grade < 5.0:\n",
    "    print (\"FAILED\")"
   ]
  },
  {
   "cell_type": "markdown",
   "id": "b4a58a76",
   "metadata": {},
   "source": [
    "# if-else statement"
   ]
  },
  {
   "cell_type": "code",
   "execution_count": 8,
   "id": "10c9508d",
   "metadata": {},
   "outputs": [
    {
     "name": "stdout",
     "output_type": "stream",
     "text": [
      "FAILED!\n"
     ]
    }
   ],
   "source": [
    "# if grade >= 5.0 is True, 'else' will not be evaluated\n",
    "grade = 4.0\n",
    "\n",
    "# evaluated grade\n",
    "if grade >= 5.0:\n",
    "    print (\"pasar ko!\")\n",
    "else:\n",
    "    print (\"FAILED!\")"
   ]
  },
  {
   "cell_type": "markdown",
   "id": "86a5b71b",
   "metadata": {},
   "source": [
    "# if-elif-else statement"
   ]
  },
  {
   "cell_type": "code",
   "execution_count": 11,
   "id": "bce7c2f0",
   "metadata": {},
   "outputs": [
    {
     "name": "stdout",
     "output_type": "stream",
     "text": [
      "FAILED!\n"
     ]
    }
   ],
   "source": [
    "# if grade >= 5.0 is True, 'others' will not be evaluated\n",
    "grade = 2.9\n",
    "\n",
    "# evaluated grade\n",
    "if grade >= 5.0:\n",
    "    print (\"pasar ko!\")\n",
    "elif grade < 5.0: #< 5.0 evaluated first\n",
    "    print (\"FAILED!\")\n",
    "elif grade < 3.0:\n",
    "    print (\"DISMISSED!\")\n",
    "else:\n",
    "    print (\"INVALID\")"
   ]
  },
  {
   "cell_type": "code",
   "execution_count": 13,
   "id": "c187f124",
   "metadata": {},
   "outputs": [
    {
     "name": "stdout",
     "output_type": "stream",
     "text": [
      "DISMISSED!\n"
     ]
    }
   ],
   "source": [
    "# if grade >= 5.0 is True, 'others' will not be evaluated\n",
    "grade = 2.9\n",
    "\n",
    "# evaluated grade\n",
    "if grade >= 5.0:\n",
    "    print (\"pasar ko!\")\n",
    "elif grade < 3.0: #< 3.0 evaluated first\n",
    "    print (\"DISMISSED!\")\n",
    "elif grade < 5.0:\n",
    "    print (\"FAILED!\")\n",
    "else:\n",
    "    print (\"INVALID\")"
   ]
  }
 ],
 "metadata": {
  "kernelspec": {
   "display_name": "Python 3",
   "language": "python",
   "name": "python3"
  },
  "language_info": {
   "codemirror_mode": {
    "name": "ipython",
    "version": 3
   },
   "file_extension": ".py",
   "mimetype": "text/x-python",
   "name": "python",
   "nbconvert_exporter": "python",
   "pygments_lexer": "ipython3",
   "version": "3.13.2"
  }
 },
 "nbformat": 4,
 "nbformat_minor": 5
}
