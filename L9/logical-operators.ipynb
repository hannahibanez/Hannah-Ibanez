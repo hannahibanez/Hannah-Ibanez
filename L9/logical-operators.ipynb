{
 "cells": [
  {
   "cell_type": "markdown",
   "id": "6d171ffe",
   "metadata": {},
   "source": [
    " # Logical Operators <hr style = \"border: 2.5px solid #C9A9A6\"></hr>"
   ]
  },
  {
   "cell_type": "markdown",
   "id": "d9251089",
   "metadata": {},
   "source": [
    "Data Analyst: Hannah Lyrane P. Ibanez <br>\n",
    "Department: Electrical Engineering"
   ]
  },
  {
   "cell_type": "markdown",
   "id": "ea85fcff",
   "metadata": {},
   "source": [
    "# Logical AND"
   ]
  },
  {
   "cell_type": "code",
   "execution_count": 5,
   "id": "6197a35d",
   "metadata": {},
   "outputs": [
    {
     "name": "stdout",
     "output_type": "stream",
     "text": [
      "both are true\n"
     ]
    }
   ],
   "source": [
    "# a AND b must be true\n",
    "a = True\n",
    "b = True\n",
    "\n",
    "if a and b:\n",
    "    print (\"both are true\")\n",
    "elif not(a) and not(b):\n",
    "    print (\"both are false\")\n",
    "else:\n",
    "    print (\"at least one is false\")"
   ]
  },
  {
   "cell_type": "code",
   "execution_count": 20,
   "id": "d5d88f91",
   "metadata": {},
   "outputs": [
    {
     "name": "stdout",
     "output_type": "stream",
     "text": [
      "31 is out of range.\n"
     ]
    }
   ],
   "source": [
    "# check if a is within range of 1 to 30\n",
    "a = 31\n",
    "\n",
    "if (a > 0) and (a <=10):\n",
    "    print(str(a) + \" is within the range of 1 to 10.\")\n",
    "elif (a > 10) and (a <=20):\n",
    "    print(str(a) + \" is within the range of 11 to 20.\")\n",
    "elif (a > 20) and (a <=30):\n",
    "    print(str(a) + \" is within the range of 21 to 30.\")\n",
    "else:\n",
    "    print (str(a)+ \" is out of range.\")"
   ]
  },
  {
   "cell_type": "markdown",
   "id": "5d8c5417",
   "metadata": {},
   "source": [
    "# Logical OR"
   ]
  },
  {
   "cell_type": "code",
   "execution_count": 24,
   "id": "9367579d",
   "metadata": {},
   "outputs": [
    {
     "name": "stdout",
     "output_type": "stream",
     "text": [
      "both are false\n"
     ]
    }
   ],
   "source": [
    "# either a OR b is True\n",
    "a = False\n",
    "b = False\n",
    "\n",
    "if a or b:\n",
    "    print (\"at least one is true\")\n",
    "else:\n",
    "    print (\"both are false\")"
   ]
  },
  {
   "cell_type": "code",
   "execution_count": 34,
   "id": "c3724434",
   "metadata": {},
   "outputs": [
    {
     "name": "stdout",
     "output_type": "stream",
     "text": [
      "The weather is unpredictable today\n"
     ]
    }
   ],
   "source": [
    "# Go outside or stay indoors\n",
    "weather = \"init\"\n",
    "\n",
    "if(weather == \"rainy\") or (weather == \"stormy\"):\n",
    "    print(\"Bring an umbrella or stay indoors!\")\n",
    "elif(weather == \"sunny\") or (weather == \"clear\"):\n",
    "    print(\"It's a great day to go outside!\")\n",
    "else:\n",
    "    print (\"The weather is unpredictable today\")"
   ]
  },
  {
   "cell_type": "markdown",
   "id": "6d2aad56",
   "metadata": {},
   "source": [
    "# Logical NOT\n"
   ]
  },
  {
   "cell_type": "code",
   "execution_count": 36,
   "id": "1fedf227",
   "metadata": {},
   "outputs": [
    {
     "data": {
      "text/plain": [
       "True"
      ]
     },
     "execution_count": 36,
     "metadata": {},
     "output_type": "execute_result"
    }
   ],
   "source": [
    "# negates the Logical state\n",
    "a = False\n",
    "not a "
   ]
  },
  {
   "cell_type": "code",
   "execution_count": 41,
   "id": "bb2329e0",
   "metadata": {},
   "outputs": [
    {
     "name": "stdout",
     "output_type": "stream",
     "text": [
      "9 is odd\n"
     ]
    }
   ],
   "source": [
    "# odd or even number\n",
    "a = 9\n",
    "if a%2 == 0:\n",
    "    print(str(a) + \" is even\")\n",
    "else:\n",
    "    print(str(a) + \" is odd\")"
   ]
  },
  {
   "cell_type": "code",
   "execution_count": null,
   "id": "7c4fc297",
   "metadata": {},
   "outputs": [],
   "source": []
  }
 ],
 "metadata": {
  "kernelspec": {
   "display_name": "Python 3",
   "language": "python",
   "name": "python3"
  },
  "language_info": {
   "codemirror_mode": {
    "name": "ipython",
    "version": 3
   },
   "file_extension": ".py",
   "mimetype": "text/x-python",
   "name": "python",
   "nbconvert_exporter": "python",
   "pygments_lexer": "ipython3",
   "version": "3.13.2"
  }
 },
 "nbformat": 4,
 "nbformat_minor": 5
}
