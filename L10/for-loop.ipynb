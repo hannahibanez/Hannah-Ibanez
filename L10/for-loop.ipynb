{
 "cells": [
  {
   "cell_type": "markdown",
   "id": "83465f4a",
   "metadata": {},
   "source": [
    "# for Loop <hr style = \"border: 2.5px solid #C9A9A6\"></hr>"
   ]
  },
  {
   "cell_type": "markdown",
   "id": "7d46f089",
   "metadata": {},
   "source": [
    "Data Analyst: Hannah Lyrane P. Ibanez <br>\n",
    "Department: Electrical Engineering"
   ]
  },
  {
   "cell_type": "markdown",
   "id": "57a2706f",
   "metadata": {},
   "source": [
    "# Iterating Over a List"
   ]
  },
  {
   "cell_type": "code",
   "execution_count": 4,
   "id": "67bf22f7",
   "metadata": {},
   "outputs": [
    {
     "name": "stdout",
     "output_type": "stream",
     "text": [
      "apple\n",
      "orange\n",
      "grapes\n",
      "5\n"
     ]
    }
   ],
   "source": [
    "# at index 0, i = 'apple'\n",
    "fruits = ['apple',\"orange\",\"grapes\",5]\n",
    "for i in fruits:\n",
    "    print (i)\n"
   ]
  },
  {
   "cell_type": "code",
   "execution_count": 5,
   "id": "d740b32c",
   "metadata": {},
   "outputs": [
    {
     "name": "stdout",
     "output_type": "stream",
     "text": [
      "1\n",
      "2\n",
      "3\n",
      "4\n",
      "5\n",
      "6\n",
      "7\n",
      "8\n",
      "9\n",
      "10\n"
     ]
    }
   ],
   "source": [
    "numbers = [1,2,3,4,5,6,7,8,9,10]\n",
    "for n in numbers:\n",
    "    print (n)"
   ]
  },
  {
   "cell_type": "code",
   "execution_count": 11,
   "id": "34f29cb5",
   "metadata": {},
   "outputs": [
    {
     "name": "stdout",
     "output_type": "stream",
     "text": [
      "1\n",
      "3\n",
      "5\n",
      "7\n",
      "9\n"
     ]
    }
   ],
   "source": [
    "for j in range (1,10,2):\n",
    "    print (j)"
   ]
  },
  {
   "cell_type": "markdown",
   "id": "75c5d7fe",
   "metadata": {},
   "source": [
    "# Iterating Over a Dictionary"
   ]
  },
  {
   "cell_type": "code",
   "execution_count": 13,
   "id": "575d5c63",
   "metadata": {},
   "outputs": [
    {
     "name": "stdout",
     "output_type": "stream",
     "text": [
      "P\n",
      "y\n",
      "t\n",
      "h\n",
      "o\n",
      "n\n"
     ]
    }
   ],
   "source": [
    "for char in \"Python\":\n",
    "    print (char)"
   ]
  },
  {
   "cell_type": "code",
   "execution_count": 17,
   "id": "17ef3606",
   "metadata": {},
   "outputs": [
    {
     "name": "stdout",
     "output_type": "stream",
     "text": [
      "name\n",
      "position\n",
      "salary\n",
      "Ada\n",
      "analyst\n",
      "80000\n"
     ]
    }
   ],
   "source": [
    "employee = {\n",
    "    \"name\" : \"Ada\",\n",
    "    \"position\" : \"analyst\",\n",
    "    \"salary\" : 80000\n",
    "}\n",
    "for key in employee:\n",
    "    print (key)\n",
    "\n",
    "for value in employee.values():\n",
    "    print(value)"
   ]
  }
 ],
 "metadata": {
  "kernelspec": {
   "display_name": "Python 3",
   "language": "python",
   "name": "python3"
  },
  "language_info": {
   "codemirror_mode": {
    "name": "ipython",
    "version": 3
   },
   "file_extension": ".py",
   "mimetype": "text/x-python",
   "name": "python",
   "nbconvert_exporter": "python",
   "pygments_lexer": "ipython3",
   "version": "3.13.2"
  }
 },
 "nbformat": 4,
 "nbformat_minor": 5
}
